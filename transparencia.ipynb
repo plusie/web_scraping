{
 "cells": [
  {
   "cell_type": "code",
   "execution_count": 1,
   "metadata": {},
   "outputs": [],
   "source": [
    "#pip install beautifulsoup4\n",
    "#pip install requests"
   ]
  },
  {
   "cell_type": "code",
   "execution_count": 2,
   "metadata": {},
   "outputs": [],
   "source": [
    "from bs4 import BeautifulSoup\n",
    "import os\n",
    "import re\n",
    "import requests\n",
    "import time\n",
    "import zipfile"
   ]
  },
  {
   "cell_type": "markdown",
   "metadata": {},
   "source": [
    "# Constantes"
   ]
  },
  {
   "cell_type": "code",
   "execution_count": 7,
   "metadata": {},
   "outputs": [],
   "source": [
    "TRANSPARENCIA_URL = 'http://www.portaltransparencia.gov.br/'\n",
    "RECEITA_URL = 'download-de-dados/receitas'"
   ]
  },
  {
   "cell_type": "code",
   "execution_count": 8,
   "metadata": {},
   "outputs": [
    {
     "name": "stdout",
     "output_type": "stream",
     "text": [
      "200\n"
     ]
    }
   ],
   "source": [
    "# Pega o HTML do site de Receitas\n",
    "response = requests.get(TRANSPARENCIA_URL+RECEITA_URL)\n",
    "print(response.status_code)"
   ]
  },
  {
   "cell_type": "code",
   "execution_count": 9,
   "metadata": {},
   "outputs": [
    {
     "name": "stdout",
     "output_type": "stream",
     "text": [
      "b'\\n\\n\\n\\n<!DOCTYPE HTML>\\n<html lang=\"pt-br\">\\n<head>\\n    <meta http-equiv=\"Content-Type\"     content=\"text/html; charset=UTF-8\">\\n    <meta http-equiv=\"X-UA-Compatible\"  content=\"IE=edge\">\\n    <meta name=\"viewport\"               content=\"width=device-width,initial-scale=1.0\">\\n    <meta name=\"description\"            content=\"\">\\n    <meta name=\"author\"                 content=\"\"/>\\n    <title>Execu\\xc3\\xa7\\xc3\\xa3o da Receita - Portal da transpar\\xc3\\xaancia</title>\\n\\n    <!-- Global site tag (gtag.js) - Google Analytics -->\\n    <script async src=\"https://www.googletagmanager.com/gtag/js?id=UA-1665737-25\"></script>\\n    <script>\\n        window.dataLayer = window.dataLayer || [];\\n        function gtag(){dataLayer.push(arguments);}\\n        gtag(\\'js\\', new Date());\\n\\n        gtag(\\'config\\', \\'UA-1665737-25\\');\\n    </script>\\n\\n    <!-- BARRA DO TOPO DO GOVERNO -->\\n    <link rel=\"stylesheet\"              href=\"/static/libs/font-awesome-4.4.0/css/font-awesome.min.css?v=1.4.2\" />\\n    <link rel=\"stylesheet\"              href=\"https://fonts.googleapis.com/css?family=Open+Sans:400,600,700,800%7COpen+Sans+Condensed:700%7CRoboto+Condensed:400,700\" type=\"text/css\" />\\n    <link rel=\"stylesheet\"              href=\"/static/libs/bootstrap/css/bootstrap.min.css?v=1.4.2\" />\\n\\n    <!--[if IE]>\\n    <style>\\n        select {\\n            padding: 0px 1% !important;\\n            background-image: none !important;\\n        }\\n    </style>\\n    <![endif]-->\\n\\n    <link rel=\"stylesheet\" href=\"/static/css/layoutStyle.css?v=1.4.2\" />\\n    <link rel=\"stylesheet\" href=\"/static/libs/timeline/timeline.css?v=1.4.2\" />\\n\\n    <script type=\"text/javascript\"      src=\"/static/libs/jquery/jquery-1.12.0.min.js\"></script>\\n    \\n</head>\\n\\n\\n<body>\\n\\n\\n\\n\\n<header id=\"header\" role=\"banner\">\\n    <section class=\"container\">\\n        <ul role=\"menubar\">\\n            <li role=\"menuitem\"><a href=\"#aconteudo\" accesskey=\"1\">Ir para o conte\\xc3\\xbado <span>1</span></a></li>\\n            <li role=\"menuitem\"><a href=\"#amenu-navegacao\" accesskey=\"2\">Ir para o menu <span>2</span></a></li>\\n            <li role=\"menuitem\"><a href=\"#termoBuscaPortal\" accesskey=\"3\">Ir para a busca <span>3</span></a></li>\\n            <li role=\"menuitem\"><a href=\"#arodape\" accesskey=\"4\">Ir para o rodap\\xc3\\xa9 <span>4</span></a></li>\\n        </ul>\\n\\n        <ul class=\"menu-borda\" role=\"menubar\">\\n            <li role=\"menuitem\"><a href=\"#\" accesskey=\"5\" id=\"aumentar-fonte\">A+</a></li>\\n            <li role=\"menuitem\"><a href=\"#\" accesskey=\"6\" id=\"diminuir-fonte\">A-</a></li>\\n            <li role=\"menuitem\"><a href=\"#\" accesskey=\"7\">ACESSIBILIDADE</a></li>\\n            <li role=\"menuitem\"><a href=\"#\" accesskey=\"8\" id=\"alto-contraste\">ALTO CONTRASTE</a></li>\\n            <li role=\"menuitem\"><a href=\"/mapa-do-site\" accesskey=\"9\">MAPA DO SITE</a></li>\\n        </ul>\\n\\n        <div class=\"logo\">\\n            <h1><a href=\"/\">Portal da Transpar\\xc3\\xaancia</a></h1>\\n            <span>MINIST\\xc3\\x89RIO DA TRANSPAR\\xc3\\x8aNCIA E CONTROLADORIA-GERAL DA UNI\\xc3\\x83O</span>\\n        </div>\\n\\n            <form id=\"form-busca-topo\" class=\"form-busca-topo\" action=\"/busca\" method=\"get\">\\n                <fieldset>\\n                    <legend>Formul\\xc3\\xa1rio de busca</legend>\\n\\n                    <label for=\"termoBuscaPortal\" class=\"sr-only\">Busque por \\xc3\\xb3rg\\xc3\\xa3o, cidade, CNPJ, servidor...</label>\\n                    <input type=\"text\" id=\"termoBuscaPortal\" name=\"termo\"\\n                           placeholder=\"Busque por \\xc3\\xb3rg\\xc3\\xa3o, cidade, CNPJ, servidor...\">\\n\\n                    <button type=\"submit\" aria-label=\"Enviar dados do formul\\xc3\\xa1rio de busca\"><span\\n                            class=\"sr-only\">Buscar</span><i class=\"glyphicon glyphicon-search\"></i></button>\\n                </fieldset>\\n            </form>\\n\\n    </section>\\n\\n<nav id=\"amenu-navegacao\" class=\"menu-navegacao\" role=\"navigation\">\\n    <div class=\"container container--tipo-b\">\\n        <button type=\"button\" id=\"botaoMenu\"><i class=\"glyphicon glyphicon-menu-hamburger\"></i></button>\\n        <div class=\"menu-wrapper\" style=\"float: left;\">\\n            <ul role=\"menubar\">\\n                <li role=\"menuitem\" aria-haspopup=\"true\" class=\"has-submenu\">\\n                    <a href=\"#\">Sobre o Portal</a>\\n                    <ul role=\"menu\" aria-hidden=\"true\" aria-haspopup=\"true\" class=\"is-submenu\">\\n                        <li role=\"menuitem\"><a href=\"/sobre/o-que-e-e-como-funciona\" onclick=\"window.open(\\'/sobre/o-que-e-e-como-funciona\\', \\'_self\\')\">O que \\xc3\\xa9 e como funciona</a></li>\\n                        <li role=\"menuitem\"><a href=\"/sobre/o-que-voce-encontra-no-portal\" onclick=\"window.open(\\'/sobre/o-que-voce-encontra-no-portal\\', \\'_self\\')\">O que voc\\xc3\\xaa encontra no Portal</a></li>\\n                        <li role=\"menuitem\"><a href=\"/sobre/legislacao\" onclick=\"window.open(\\'/sobre/legislacao\\', \\'_self\\')\">Legisla\\xc3\\xa7\\xc3\\xa3o</a></li>\\n                        <li role=\"menuitem\" class=\"has-submenu\" aria-haspopup=\"true\">\\n                            <a href=\"#\">Dados do portal</a>\\n                            <ul role=\"menu\" aria-hidden=\"true\">\\n                                <li><a href=\"/origem-dos-dados\" onclick=\"window.open(\\'/origem-dos-dados\\', \\'_self\\')\">Origem e atualiza\\xc3\\xa7\\xc3\\xa3o</a></li>\\n                                <li><a href=\"/download-de-dados\" onclick=\"window.open(\\'/download-de-dados\\', \\'_self\\')\">Dados abertos</a></li>\\n                                <li><a href=\"/api-de-dados\" onclick=\"window.open(\\'/api-de-dados\\', \\'_self\\')\">API de Dados</a></li>\\n                                <li><a href=\"/download-de-dados/historico\" onclick=\"window.open(\\'/download-de-dados/historico\\', \\'_self\\')\">Hist\\xc3\\xb3rico de dados</a></li>\\n                            </ul>\\n                        </li>\\n                        <li role=\"menuitem\" class=\"has-submenu\" aria-haspopup=\"true\">\\n                            <a href=\"#\">Contato</a>\\n                            <ul role=\"menu\" aria-hidden=\"true\">\\n                                <li><a href=\"http://www.acessoainformacao.gov.br/\" onclick=\"window.open(\\'http://www.acessoainformacao.gov.br/\\', \\'_self\\')\">Fa\\xc3\\xa7a um pedido de informa\\xc3\\xa7\\xc3\\xa3o para o Governo Federal</a></li>\\n                                <li><a href=\"https://sistema.ouvidorias.gov.br/publico/Manifestacao/RegistrarManifestacao.aspx?tipo=1\" onclick=\"window.open(\\'https://sistema.ouvidorias.gov.br/publico/Manifestacao/RegistrarManifestacao.aspx?tipo=1\\', \\'_self\\')\">Fa\\xc3\\xa7a uma den\\xc3\\xbancia</a></li>\\n                                <li><a href=\"https://sistema.ouvidorias.gov.br/publico/Manifestacao/RegistrarManifestacao.aspx\" onclick=\"window.open(\\'https://sistema.ouvidorias.gov.br/publico/Manifestacao/RegistrarManifestacao.aspx\\', \\'_self\\')\">Registre suas sugest\\xc3\\xb5es, d\\xc3\\xbavidas e reclama\\xc3\\xa7\\xc3\\xb5es</a></li>\\n                            </ul>\\n                        </li>\\n                    </ul>\\n                </li>\\n                <li role=\"menuitem\" aria-haspopup=\"true\" class=\"has-submenu\">\\n                    <a href=\"#\">Pain\\xc3\\xa9is</a>\\n                    <ul role=\"menu\" aria-hidden=\"true\" aria-haspopup=\"true\" class=\"is-submenu\">\\n                        <li role=\"menuitem\"><a href=\"/orgaos\" onclick=\"window.open(\\'/orgaos\\', \\'_self\\')\">Panorama do Governo Federal</a></li>\\n                        <li role=\"menuitem\" class=\"has-submenu\" aria-haspopup=\"true\">\\n                            <a href=\"#\">Receitas e despesas p\\xc3\\xbablicas</a>\\n                            <ul role=\"menu\" aria-hidden=\"true\">\\n                                <li><a href=\"/orcamento\" onclick=\"window.open(\\'/orcamento\\', \\'_self\\')\">Or\\xc3\\xa7amento anual</a></li>\\n                                <li><a href=\"/receitas\" onclick=\"window.open(\\'/receitas\\', \\'_self\\')\">Receitas p\\xc3\\xbablicas</a></li>\\n                                <li><a href=\"/despesas\" onclick=\"window.open(\\'/despesas\\', \\'_self\\')\">Despesas p\\xc3\\xbablicas</a></li>\\n                                <li><a href=\"/transferencias\" onclick=\"window.open(\\'/transferencias\\', \\'_self\\')\">Recursos transferidos</a></li>\\n                                <li><a href=\"/cartoes\" onclick=\"window.open(\\'/cartoes\\', \\'_self\\')\">Gastos por cart\\xc3\\xb5es de pagamento</a></li>\\n                            </ul>\\n                        </li>\\n                        <li role=\"menuitem\" class=\"has-submenu\" aria-haspopup=\"true\">\\n                            <a href=\"#\">Pol\\xc3\\xadticas p\\xc3\\xbablicas</a>\\n                            <ul role=\"menu\" aria-hidden=\"true\">\\n                                <li><a href=\"/funcoes\" onclick=\"window.open(\\'/funcoes\\', \\'_self\\')\">\\xc3\\x81reas de atua\\xc3\\xa7\\xc3\\xa3o do governo</a></li>\\n                                <li><a href=\"/programas-de-governo\" onclick=\"window.open(\\'/programas-de-governo\\', \\'_self\\')\">Programas de governo</a></li>\\n                                <li><a href=\"/beneficios\" onclick=\"window.open(\\'/beneficios\\', \\'_self\\')\">Benef\\xc3\\xadcios aos cidad\\xc3\\xa3os</a></li>\\n                                <li><a href=\"/programas-e-acoes/busca/lista\" onclick=\"window.open(\\'/programas-e-acoes/busca/lista\\', \\'_self\\')\">Programas e a\\xc3\\xa7\\xc3\\xb5es or\\xc3\\xa7ament\\xc3\\xa1rias</a></li>\\n                                <li><a href=\"/emendas\" onclick=\"window.open(\\'/emendas\\', \\'_self\\')\">Emendas parlamentares</a></li>\\n                            </ul>\\n                        </li>\\n                        <li role=\"menuitem\" class=\"has-submenu\" aria-haspopup=\"true\">\\n                            <a href=\"#\">\\xc3\\x93rg\\xc3\\xa3os e Servidores</a>\\n                            <ul role=\"menu\" aria-hidden=\"true\">\\n                                <li><a href=\"/orgaos-superiores\" onclick=\"window.open(\\'/orgaos-superiores\\', \\'_self\\')\">\\xc3\\x93rg\\xc3\\xa3os</a></li>\\n                                <li><a href=\"/servidores\" onclick=\"window.open(\\'/servidores\\', \\'_self\\')\">Servidores p\\xc3\\xbablicos</a></li>\\n                                <li><a href=\"/viagens\" onclick=\"window.open(\\'/viagens\\', \\'_self\\')\">Viagens a servi\\xc3\\xa7o</a></li>\\n                                <li><a href=\"/imoveis-funcionais\" onclick=\"window.open(\\'/imoveis-funcionais\\', \\'_self\\')\">Im\\xc3\\xb3veis funcionais</a></li>\\n                            </ul>\\n                        </li>\\n                        <li role=\"menuitem\" class=\"has-submenu\" aria-haspopup=\"true\">\\n                            <a href=\"#\">Licita\\xc3\\xa7\\xc3\\xb5es, contratos e conv\\xc3\\xaanios</a>\\n                            <ul role=\"menu\" aria-hidden=\"true\">\\n                                <li><a href=\"/licitacoes\" onclick=\"window.open(\\'/licitacoes\\', \\'_self\\')\">Licita\\xc3\\xa7\\xc3\\xb5es</a></li>\\n                                <li><a href=\"/contratos\" onclick=\"window.open(\\'/contratos\\', \\'_self\\')\">Contratos</a></li>\\n                                <li><a href=\"/convenios\" onclick=\"window.open(\\'/convenios\\', \\'_self\\')\">Conv\\xc3\\xaanios e outros acordos</a></li>\\n                            </ul>\\n                        </li>\\n                        <li role=\"menuitem\"><a href=\"/sancoes\" onclick=\"window.open(\\'/sancoes\\', \\'_self\\')\">San\\xc3\\xa7\\xc3\\xb5es aplicadas a pessoas f\\xc3\\xadsicas, jur\\xc3\\xaddicas e servidores</a></li>\\n                        <li role=\"menuitem\"><a href=\"/localidades\" onclick=\"window.open(\\'/localidades\\', \\'_self\\')\">Localidades</a></li>\\n                    </ul>\\n                </li>\\n                <li role=\"menuitem\" aria-haspopup=\"true\" class=\"has-submenu\">\\n                    <a href=\"#\">Consultas Detalhadas</a>\\n\\n                    <ul role=\"menu\" aria-hidden=\"true\" aria-haspopup=\"true\" class=\"is-submenu\">\\n                        <li role=\"menuitem\"><a href=\"/orcamento/receitas\" onclick=\"window.open(\\'/orcamento/receitas\\', \\'_self\\')\">Or\\xc3\\xa7amento da receita</a></li>\\n                        <li role=\"menuitem\"><a href=\"/receitas/consulta\" onclick=\"window.open(\\'/receitas/consulta\\', \\'_self\\')\">Execu\\xc3\\xa7\\xc3\\xa3o de receitas p\\xc3\\xbablicas</a></li>\\n                        <li role=\"menuitem\"><a href=\"/orcamento/despesas\" onclick=\"window.open(\\'/orcamento/despesas\\', \\'_self\\')\">Or\\xc3\\xa7amento da despesa</a></li>\\n                        <li role=\"menuitem\" class=\"has-submenu\" aria-haspopup=\"true\">\\n                            <a href=\"#\">Execu\\xc3\\xa7\\xc3\\xa3o de despesas p\\xc3\\xbablicas</a>\\n                            <ul role=\"menu\" aria-hidden=\"true\">\\n                                <li><a href=\"/despesas/orgao\" onclick=\"window.open(\\'/despesas/orgao\\', \\'_self\\')\">Por \\xc3\\xb3rg\\xc3\\xa3o</a></li>\\n                                <li><a href=\"/despesas/funcao\" onclick=\"window.open(\\'/despesas/funcao\\', \\'_self\\')\">Por \\xc3\\xa1rea de atua\\xc3\\xa7\\xc3\\xa3o</a></li>\\n                                <li><a href=\"/despesas/programa-e-acao\" onclick=\"window.open(\\'/despesas/programa-e-acao\\', \\'_self\\')\">Por programa/a\\xc3\\xa7\\xc3\\xa3o or\\xc3\\xa7ament\\xc3\\xa1ria</a></li>\\n                                <li><a href=\"/despesas/consulta\" onclick=\"window.open(\\'/despesas/consulta\\', \\'_self\\')\">Por per\\xc3\\xadodo</a></li>\\n                            </ul>\\n                        </li>\\n                        <li role=\"menuitem\"><a href=\"/despesas/recursos-recebidos\" onclick=\"window.open(\\'/despesas/recursos-recebidos\\', \\'_self\\')\">Recebimento de recursos por favorecido</a></li>\\n                        <li role=\"menuitem\"><a href=\"/despesas/favorecido\" onclick=\"window.open(\\'/despesas/favorecido\\', \\'_self\\')\">Documentos di\\xc3\\xa1rios de execu\\xc3\\xa7\\xc3\\xa3o da despesa p\\xc3\\xbablica</a></li>\\n                        <li role=\"menuitem\"><a href=\"/transferencias/consulta\" onclick=\"window.open(\\'/transferencias/consulta\\', \\'_self\\')\">Recursos Transferidos por UF e Munic\\xc3\\xadpio </a></li>\\n                        <li role=\"menuitem\"><a href=\"/emendas/consulta\" onclick=\"window.open(\\'/emendas/consulta\\', \\'_self\\')\">Emendas parlamentares</a></li>\\n                        <li role=\"menuitem\"><a href=\"/licitacoes/consulta\" onclick=\"window.open(\\'/licitacoes/consulta\\', \\'_self\\')\">Licita\\xc3\\xa7\\xc3\\xb5es</a></li>\\n                        <li role=\"menuitem\"><a href=\"/contratos/consulta\" onclick=\"window.open(\\'/contratos/consulta\\', \\'_self\\')\">Contratos</a></li>\\n                        <li role=\"menuitem\"><a href=\"/convenios/consulta\" onclick=\"window.open(\\'/convenios/consulta\\', \\'_self\\')\">Conv\\xc3\\xaanios e outros acordos</a></li>\\n                        <li role=\"menuitem\"><a href=\"/cartoes/consulta\" onclick=\"window.open(\\'/cartoes/consulta\\', \\'_self\\')\">Gastos por meio de cart\\xc3\\xb5es de pagamento</a></li>\\n                        <li role=\"menuitem\"><a href=\"/beneficios/consulta\" onclick=\"window.open(\\'/beneficios/consulta\\', \\'_self\\')\">Benef\\xc3\\xadcios aos cidad\\xc3\\xa3os</a></li>\\n                        <li role=\"menuitem\" class=\"has-submenu\" aria-haspopup=\"true\">\\n                            <a href=\"#\">Im\\xc3\\xb3veis funcionais</a>\\n                            <ul role=\"menu\" aria-hidden=\"true\">\\n                                <li><a href=\"/imoveis-funcionais/imoveis\" onclick=\"window.open(\\'/imoveis-funcionais/imoveis\\', \\'_self\\')\">Rela\\xc3\\xa7\\xc3\\xa3o de im\\xc3\\xb3veis</a></li>\\n                                <li><a href=\"/imoveis-funcionais/permissionarios\" onclick=\"window.open(\\'/imoveis-funcionais/permissionarios\\', \\'_self\\')\">Ocupantes de im\\xc3\\xb3veis</a></li>\\n                            </ul>\\n                        </li>\\n                        <li role=\"menuitem\"><a href=\"/servidores/consulta\" onclick=\"window.open(\\'/servidores/consulta\\', \\'_self\\')\">Servidores p\\xc3\\xbablicos</a></li>\\n                        <li role=\"menuitem\"><a href=\"/viagens/consulta\" onclick=\"window.open(\\'/viagens/consulta\\', \\'_self\\')\">Viagens a servi\\xc3\\xa7o</a></li>\\n                        <li role=\"menuitem\"><a href=\"/localidades/busca/lista\" onclick=\"window.open(\\'/localidades/busca/lista\\', \\'_self\\')\">Localidades</a></li>\\n                        <li role=\"menuitem\"><a href=\"/pessoa-fisica/busca/lista\" onclick=\"window.open(\\'/pessoa-fisica/busca/lista\\', \\'_self\\')\">Pessoas f\\xc3\\xadsicas</a></li>\\n                        <li role=\"menuitem\"><a href=\"/pessoa-juridica/busca/lista\" onclick=\"window.open(\\'/pessoa-juridica/busca/lista\\', \\'_self\\')\">Pessoas jur\\xc3\\xaddicas</a></li>\\n                        <li role=\"menuitem\" class=\"has-submenu\" aria-haspopup=\"true\">\\n                            <a href=\"#\">San\\xc3\\xa7\\xc3\\xb5es aplicadas</a>\\n                            <ul role=\"menu\" aria-hidden=\"true\">\\n                                <li><a href=\"/sancoes/ceis\" onclick=\"window.open(\\'/sancoes/ceis\\', \\'_self\\')\">Cadastro Nacional de Empresas Inid\\xc3\\xb4neas e Suspensas (CEIS)</a></li>\\n                                <li><a href=\"/sancoes/cnep\" onclick=\"window.open(\\'/sancoes/cnep\\', \\'_self\\')\">Cadastro Nacional de Empresas Punidas (CNEP)</a></li>\\n                                <li><a href=\"/sancoes/cepim\" onclick=\"window.open(\\'/sancoes/cepim\\', \\'_self\\')\">Cadastro de Entidades Privadas sem Fins Lucrativos Impedidas (CEPIM)</a></li>\\n                                <li><a href=\"/sancoes/ceaf\" onclick=\"window.open(\\'/sancoes/ceaf\\', \\'_self\\')\">Cadastro de Expuls\\xc3\\xb5es da Administra\\xc3\\xa7\\xc3\\xa3o Federal (CEAF)</a></li>\\n                                <li><a href=\"/sancoes/acordos-leniencia\" onclick=\"window.open(\\'/sancoes/acordos-leniencia\\', \\'_self\\')\">Acordos de leni\\xc3\\xaancia</a></li>\\n                            </ul>\\n                        </li>\\n                    </ul>\\n                </li>\\n                <li role=\"menuitem\" aria-haspopup=\"true\" class=\"has-submenu\">\\n                    <a href=\"#\">Controle social</a>\\n                    <ul role=\"menu\" aria-hidden=\"true\" aria-haspopup=\"true\" class=\"is-submenu\">\\n                        <li role=\"menuitem\"><a href=\"/pagina-interna/603399-controle-social\" onclick=\"window.open(\\'/pagina-interna/603399-controle-social\\', \\'_self\\')\">Controle social</a></li>\\n                        <li role=\"menuitem\"><a href=\"/controle-social/o-portal-como-ferramenta\" onclick=\"window.open(\\'/controle-social/o-portal-como-ferramenta\\', \\'_self\\')\">O Portal como ferramenta</a></li>\\n                        <li role=\"menuitem\"><a href=\"http://www.acessoainformacao.gov.br/\" onclick=\"window.open(\\'http://www.acessoainformacao.gov.br/\\', \\'_self\\')\">Acesso \\xc3\\xa0 informa\\xc3\\xa7\\xc3\\xa3o</a></li>\\n                        <li role=\"menuitem\"><a href=\"http://governoaberto.cgu.gov.br/\" onclick=\"window.open(\\'http://governoaberto.cgu.gov.br/\\', \\'_self\\')\">Governo Aberto</a></li>\\n                    </ul>\\n                </li>\\n                <li role=\"menuitem\"><a href=\"/redetransparencia\" onclick=\"window.open(\\'/redetransparencia\\', \\'_self\\')\">Rede de Transpar\\xc3\\xaancia</a></li>\\n                <li role=\"menuitem\"><a href=\"/notificacoes\" onclick=\"window.open(\\'/notificacoes\\', \\'_self\\')\">Receba Notifica\\xc3\\xa7\\xc3\\xb5es</a></li>\\n                <li role=\"menuitem\" aria-haspopup=\"true\" class=\"has-submenu\">\\n                    <a href=\"#\">Aprenda mais</a>\\n                    <ul role=\"menu\" aria-hidden=\"true\" aria-haspopup=\"true\" class=\"is-submenu\">\\n                        <li role=\"menuitem\" class=\"has-submenu submenu--right\" aria-haspopup=\"true\">\\n                            <a href=\"#\">Entenda a gest\\xc3\\xa3o p\\xc3\\xbablica</a>\\n                            <ul role=\"menu\" aria-hidden=\"true\">\\n                                <li><a href=\"/entenda-a-gestao-publica/orcamento-publico\" onclick=\"window.open(\\'/entenda-a-gestao-publica/orcamento-publico\\', \\'_self\\')\">Or\\xc3\\xa7amento p\\xc3\\xbablico</a></li>\\n                                <li><a href=\"/entenda-a-gestao-publica/execucao-receita-publica\" onclick=\"window.open(\\'/entenda-a-gestao-publica/execucao-receita-publica\\', \\'_self\\')\">Execu\\xc3\\xa7\\xc3\\xa3o da receita p\\xc3\\xbablica</a></li>\\n                                <li><a href=\"/entenda-a-gestao-publica/execucao-despesa-publica\" onclick=\"window.open(\\'/entenda-a-gestao-publica/execucao-despesa-publica\\', \\'_self\\')\">Execu\\xc3\\xa7\\xc3\\xa3o da despesa p\\xc3\\xbablica</a></li>\\n                                <li><a href=\"/entenda-a-gestao-publica/programas-de-governo\" onclick=\"window.open(\\'/entenda-a-gestao-publica/programas-de-governo\\', \\'_self\\')\">Programas de Governo</a></li>\\n                                <li><a href=\"/entenda-a-gestao-publica/beneficios-ao-cidadao\" onclick=\"window.open(\\'/entenda-a-gestao-publica/beneficios-ao-cidadao\\', \\'_self\\')\">Benef\\xc3\\xadcios ao cidad\\xc3\\xa3o</a></li>\\n                                <li><a href=\"/entenda-a-gestao-publica/servidores-publicos\" onclick=\"window.open(\\'/entenda-a-gestao-publica/servidores-publicos\\', \\'_self\\')\">Servidores p\\xc3\\xbablicos</a></li>\\n                                <li><a href=\"/entenda-a-gestao-publica/licitacoes-e-contratacoes\" onclick=\"window.open(\\'/entenda-a-gestao-publica/licitacoes-e-contratacoes\\', \\'_self\\')\">Licita\\xc3\\xa7\\xc3\\xb5es e contrata\\xc3\\xa7\\xc3\\xb5es</a></li>\\n                                <li><a href=\"/entenda-a-gestao-publica/convenios-e-outros-acordos\" onclick=\"window.open(\\'/entenda-a-gestao-publica/convenios-e-outros-acordos\\', \\'_self\\')\">Conv\\xc3\\xaanios e outros acordos</a></li>\\n                                <li><a href=\"/entenda-a-gestao-publica/sancoes-aplicadas\" onclick=\"window.open(\\'/entenda-a-gestao-publica/sancoes-aplicadas\\', \\'_self\\')\">San\\xc3\\xa7\\xc3\\xb5es aplicadas</a></li>\\n                            </ul>\\n                        </li>\\n                        <li role=\"menuitem\"><a href=\"/usando-o-portal\" onclick=\"window.open(\\'/usando-o-portal\\', \\'_self\\')\">Usando o portal</a></li>\\n                        <li role=\"menuitem\"><a href=\"/perguntas-frequentes\" onclick=\"window.open(\\'/perguntas-frequentes\\', \\'_self\\')\">Perguntas frequentes</a></li>\\n                        <li role=\"menuitem\"><a href=\"/glossario\" onclick=\"window.open(\\'/glossario\\', \\'_self\\')\">Gloss\\xc3\\xa1rio</a></li>\\n                        <li role=\"menuitem\"><a href=\"/videos\" onclick=\"window.open(\\'/videos\\', \\'_self\\')\">V\\xc3\\xaddeos</a></li>\\n                    </ul>\\n                </li>\\n            </ul>\\n        </div>\\n    </div>\\n</nav></header>\\n\\n<main role=\"main\">\\n\\n<section class=\"box-identificacao\">\\n    <div class=\"container\">\\n        <span class=\"breadcrumb\">\\n                    <strong>Voc\\xc3\\xaa est\\xc3\\xa1 aqui:</strong>\\n                    <span typeof=\"v:Breadcrumb\">\\n                        <a href=\"/\" rel=\"v:url\" property=\"v:title\">In\\xc3\\xadcio</a>\\n                    </span>\\n                            <span typeof=\"v:Breadcrumb\"> \\xc2\\xbb <a href=\"/download-de-dados\" rel=\"v:url\" property=\"v:title\">Dados abertos</a></span>\\n                            \\xc2\\xbb <strong class=\"breadcrumb-atual\" property=\"v:title\">Planilhas</strong>\\n                </span>\\n    </div>\\n    <hr>\\n\\n        <div class=\"container\">\\n            <div class=\"row\">\\n                <div class=\"col-md-9\">\\n                    <h2>Execu\\xc3\\xa7\\xc3\\xa3o da Receita</h2>\\n                </div>\\n                <div class=\"col-md-3\" id=\"divButtonOrigemDados\">\\n                </div>\\n            </div>\\n        </div>\\n</section>\\n    <div id=\"aconteudo\" class=\"container\">\\n<div class=\"row\">\\n    <div class=\"col-xs-12\">\\n        <div id=\"alerts\" class=\"floating-alerts\">\\n            \\n\\n\\n\\n        </div>\\n    </div>\\n</div>\\n    </div>\\n\\n\\n    <div class=\"container\">\\n        <div class=\"row\">\\n            <div class=\"col-sm-12 col-md-8\">\\n                <p>Selecione o exerc\\xc3\\xadcio desejado e clique em Baixar.</p><p>Ser\\xc3\\xa1 gerado o arquivo Receitas, que possui a estrutura descrita no <span style=\"font-size: 10.5pt; font-family: Arial, sans-serif;\"><a href=\"http://novo.portaldatransparencia.gov.br/pagina-interna/603435-dicionario-de-dados-execucao-da-receita\">dicion\\xc3\\xa1rio de dados</a>.&nbsp;</span></p>\\n\\n                <div id=\"arquivo-unico\" class=\"box-dados-ano\" style=\"margin-top: 15px; display: none;\">\\n                    <strong class=\"proximo-passo__titulo\">Dados dispon\\xc3\\xadveis</strong>\\n                    <ul id=\"link-unico\"></ul>\\n                </div>\\n\\n                <div id=\"origens\" class=\"box-dados-ano\" style=\"margin-top: 15px; display: none;\">\\n                    <strong class=\"proximo-passo__titulo\">Origens de dados dispon\\xc3\\xadveis</strong>\\n                    <select id=\"links-origens\"></select>\\n                </div>\\n\\n                <div id=\"anos\" class=\"box-dados-ano\" style=\"margin-top: 25px; display: none;\">\\n                    <strong class=\"proximo-passo__titulo\">Exerc\\xc3\\xadcios Dispon\\xc3\\xadveis</strong>\\n                    <select id=\"links-anos\"></select>\\n                </div>\\n\\n                <div id=\"meses\" class=\"box-dados-ano\" style=\"margin-top: 15px; display: none;\">\\n                    <strong id=\"titulo-meses\" class=\"proximo-passo__titulo\">Meses Dispon\\xc3\\xadveis em</strong>\\n                    <select id=\"links-meses\" style=\"text-transform: uppercase\"></select>\\n                </div>\\n\\n                <div id=\"dias\" class=\"box-dados-ano\" style=\"margin-top: 15px; display: none;\">\\n                    <strong id=\"titulo-dias\" class=\"proximo-passo__titulo\">Dados Dispon\\xc3\\xadveis em</strong>\\n                    <select id=\"links-dias\"></select>\\n                </div>\\n\\n                <div id=\"origens-mes\" class=\"box-dados-ano\" style=\"margin-top: 15px; display: none;\">\\n                    <strong id=\"titulo-origens-mes\" class=\"proximo-passo__titulo\">Tipos de planilhas dispon\\xc3\\xadveis em</strong>\\n                    <select id=\"links-origens-mes\"></select>\\n                </div>\\n            </div>\\n        </div>\\n    </div>\\n\\n\\n\\n</main>\\n\\n\\n<div class=\"sessao-duvidas\" id=\"duvidas\">\\n    <section class=\"container\">\\n        <div class=\"box-duvidas compacto\">\\n            <button id=\"btnDuvidas\" type=\"button\" class=\"box-duvidas__botao-duvida\"><i class=\"fa fa-question-circle\"></i> <span>D\\xc3\\xbavidas?</span></button>\\n\\n            <div id=\"box-duvidas\" class=\"box-duvidas__box\">\\n                <button id=\"btnFecharBox\" type=\"button\" class=\"botao-fechar-box-duvidas\"><i class=\"fa fa-times\" aria-hidden=\"true\"></i></button>\\n\\n                <div id=\"duvida-passo-1\" class=\"passos ativo\">\\n                    <form class=\"formulario-duvida\" action=\"#\" method=\"post\">\\n                        <fieldset>\\n                            <legend>Formul\\xc3\\xa1rio de d\\xc3\\xbavidas</legend>\\n\\n                            <label for=\"duvida-texto\">Qual \\xc3\\xa9 sua d\\xc3\\xbavida?</label>\\n                            <textarea id=\"duvida-texto\" placeholder=\"Digite palavras-chaves da sua d\\xc3\\xbavida\" cols=\"30\" rows=\"10\" name=\"duvida-texto\"></textarea>\\n\\n                            <input id=\"botaoBuscar\" type=\"submit\" class=\"duvida-enviar botao-info\" value=\"Prosseguir\">\\n                        </fieldset>\\n                    </form>\\n                </div>\\n                <div id=\"duvida-passo-2\" class=\"lista-definicao passos\">\\n\\n\\n                </div>\\n            </div>\\n        </div>\\n    </section>\\n</div>\\n\\n<script>\\n    $(function(){\\n        var interrogacao = new Interrogacao();\\n        interrogacao.inicializar();\\n    });\\n</script>\\n\\n\\n<div id=\"divCompartilhar\">\\n    <div class=\"box-compartilhe\">\\n        <div class=\"container\">\\n            <ul class=\"nav-tabs\" role=\"tablist\">\\n                <li role=\"presentation\" class=\"active\"><a href=\"#tab-compartilhe\" aria-controls=\"tab-compartilhe\" role=\"tab\" data-toggle=\"tab\" aria-expanded=\"true\"><i class=\"fa fa-share-alt\"></i> Compartilhe</a></li>\\n                <li role=\"presentation\" class=\"\"><a href=\"#tab-notificacoes\" aria-controls=\"tab-notificacoes\" role=\"tab\" data-toggle=\"tab\" aria-expanded=\"false\"><i class=\"fa fa-envelope\"></i> Receba notifica\\xc3\\xa7\\xc3\\xb5es</a></li>\\n                <li role=\"presentation\" class=\"\"><a href=\"#tab-contato\" aria-controls=\"tab-contato\" role=\"tab\" data-toggle=\"tab\" aria-expanded=\"false\"><i class=\"fa fa-bullhorn\"></i> Contato</a></li>\\n            </ul>\\n\\n            <div class=\"tab-content\">\\n                <div role=\"tabpanel\" class=\"tab-pane active\" id=\"tab-compartilhe\">\\n                    <div class=\"box-midias-sociais\">\\n                        <span class=\"box-midias-sociais__titulo\">Redes sociais</span>\\n                        <ul>\\n                            <li><a href=\"javascript:Compartilhar.gerarLinkFacebook();\" target=\"_blank\"><i class=\"fa fa-facebook-square\"></i><span>Facebook</span></a></li>\\n                            <li><a href=\"javascript:Compartilhar.gerarLinkTwitter();\" target=\"_blank\"><i class=\"fa fa-twitter-square\"></i><span>Twitter</span></a></li>\\n                            <li><a href=\"javascript:Compartilhar.gerarLinkGoogle();\" target=\"_blank\"><i class=\"fa fa-google-plus-square\"></i><span>Google Plus</span></a></li>\\n                            <li><a href=\"javascript:Compartilhar.gerarQRCode();\" target=\"_blank\"><i class=\"fa fa-qrcode\"></i><span>QR Code</span></a></li>\\n                        </ul>\\n                        <div id=\"divQRCode\" style=\"display:none;\"></div>\\n                    </div>\\n\\n                    <div class=\"busca-simples\">\\n\\n                        <label for=\"busca-simples-link\" class=\"sr-only\">Link</label>\\n                        <div class=\"row\">\\n                            <div class=\"col-xs-12 col-sm-8\">\\n                                <input type=\"text\" id=\"busca-simples-link\" name=\"link\" readonly class=\"input100\">\\n                            </div>\\n                            <div class=\"col-xs-12 botoes-compartilhar-link\">\\n                                <button id=\"btnGerarLink\" type=\"button\"  onclick=\"Compartilhar.encurtarURL(false, true);\">Gerar Link</button>\\n                                <button id=\"btnCopiarLink\" type=\"button\" onclick=\"Compartilhar.copiarLink();\">Copiar link</button>\\n                            </div>\\n                        </div>\\n\\n                    </div>\\n                </div>\\n\\n                <div role=\"tabpanel\" class=\"tab-pane\" id=\"tab-notificacoes\">\\n                    <span class=\"box-compartilhe__titulo\">\\n                        Gostaria de receber notifica\\xc3\\xa7\\xc3\\xb5es sobre atualiza\\xc3\\xa7\\xc3\\xb5es de dados do Portal da Transpar\\xc3\\xaancia?\\n                        <a href=\"/notificacoes\">Cadastre-se aqui</a>.\\n                    </span>\\n                </div>\\n\\n                <div role=\"tabpanel\" class=\"tab-pane\" id=\"tab-contato\">\\n                    <span class=\"box-compartilhe__titulo\">Contato</span>\\n                    <div class=\"row\">\\n                        <div class=\"col-sm-12 col-md-6\">\\n                            <ul class=\"box-compartilhe__lista\">\\n                                <li>\\n                                    <i class=\"fa fa-info-circle\" aria-hidden=\"true\"></i>\\n                                    <a href=\"http://www.acessoainformacao.gov.br/\" target=\"_blank\">Fa\\xc3\\xa7a um pedido de informa\\xc3\\xa7\\xc3\\xa3o para o Governo Federal</a>\\n                                </li>\\n                                <li>\\n                                    <i class=\"fa fa-bullhorn\" aria-hidden=\"true\"></i>\\n                                    <a href=\"https://sistema.ouvidorias.gov.br/publico/Manifestacao/RegistrarManifestacao.aspx?tipo=1\" target=\"_blank\">Fa\\xc3\\xa7a uma den\\xc3\\xbancia</a>\\n                                </li>\\n                            </ul>\\n                        </div>\\n                        <div class=\"col-sm-12 col-md-6\">\\n                            <ul class=\"box-compartilhe__lista\">\\n                                <li><i class=\"fa fa-exclamation-circle\" aria-hidden=\"true\"></i>\\n                                    <a href=\"https://sistema.ouvidorias.gov.br\" target=\"_blank\">Registre suas sugest\\xc3\\xb5es, d\\xc3\\xbavidas e reclama\\xc3\\xa7\\xc3\\xb5es</a>\\n                                </li>\\n                                <li><i class=\"fa fa-question-circle\" aria-hidden=\"true\"></i> <a href=\"/redetransparencia\" target=\"_blank\">Onde encontrar informa\\xc3\\xa7\\xc3\\xb5es sobre estados e munic\\xc3\\xadpios</a></li>\\n                            </ul>\\n                        </div>\\n                    </div>\\n\\n                    <form id=\"formulario-correcao\" class=\"collapse\" action=\"#\" method=\"post\" aria-hidden=\"true\">\\n                        <fieldset>\\n                            <legend>Formul\\xc3\\xa1rio de corre\\xc3\\xa7\\xc3\\xa3o</legend>\\n\\n                            <div class=\"form-group\">\\n                                <div class=\"row\">\\n                                    <div class=\"col-sm-12\">\\n                                        <label for=\"texto-correcao\" class=\"sr-only\">Texto</label>\\n                                        <textarea id=\"texto-correcao\" cols=\"30\" rows=\"10\" name=\"correcao\"></textarea>\\n                                    </div>\\n                                </div>\\n                            </div>\\n\\n                            <label for=\"sugestoes-email\">Seu e-mail</label>\\n\\n                            <div class=\"row\">\\n                                <div class=\"col-sm-12 col-md-9\">\\n                                    <input type=\"text\" id=\"sugestoes-email\" name=\"sugestoes-email\">\\n                                </div>\\n                                <div class=\"col-sm-12 col-md-3\">\\n                                    <input type=\"submit\" value=\"Enviar corre\\xc3\\xa7\\xc3\\xa3o\">\\n                                </div>\\n                            </div>\\n\\n                        </fieldset>\\n                    </form>\\n                </div>\\n            </div>\\n        </div>\\n    </div>\\n</div>\\n\\n<footer id=\"arodape\" role=\"contentinfo\">\\n    <section class=\"container\">\\n        <button id=\"botao-rodape\" type=\"button\" class=\"btn btn-primary pull-right\">Voltar para o topo <i class=\"fa fa-chevron-circle-up\"></i></button>\\n\\n        <div class=\"row\">\\n            <div class=\"col-12 col-sm-3\">\\n                <h2>Principal</h2>\\n                <ul role=\"list\">\\n                    <li role=\"listitem\"><a href=\"/orgaos\">Panorama do Governo Federal</a></li>\\n                    <li role=\"listitem\"><a href=\"/despesas\">Despesas P\\xc3\\xbablicas</a></li>\\n                    <li role=\"listitem\"><a href=\"/funcoes\">\\xc3\\x81reas de atua\\xc3\\xa7\\xc3\\xa3o do Governo</a></li>\\n                    <li role=\"listitem\"><a href=\"/servidores\">Servidores P\\xc3\\xbablicos</a></li>\\n                    <li role=\"listitem\"><a href=\"/redetransparencia\">Rede de Transpar\\xc3\\xaancia</a></li>\\n                    <li role=\"listitem\"><a href=\"/notificacoes\">Receba Notifica\\xc3\\xa7\\xc3\\xb5es</a></li>\\n                    <li role=\"listitem\"><a href=\"/download-de-dados\">Dados Abertos</a></li>\\n                </ul>\\n            </div>\\n            <div class=\"col-12 col-sm-3\">\\n                <h2>Educativo</h2>\\n                <ul role=\"list\">\\n                    <li role=\"listitem\"><a href=\"/sobre/o-que-e-e-como-funciona\">O que \\xc3\\xa9 e como funciona o Portal</a></li>\\n                    <li role=\"listitem\"><a href=\"/sobre/o-que-voce-encontra-no-portal\">O que voc\\xc3\\xaa encontra no Portal</a></li>\\n                    <li role=\"listitem\"><a href=\"/entenda-a-gestao-publica/orcamento-publico\">Or\\xc3\\xa7amento P\\xc3\\xbablico</a></li>\\n                    <li role=\"listitem\"><a href=\"/usando-o-portal\">Usando o Portal</a></li>\\n                    <li role=\"listitem\"><a href=\"/perguntas-frequentes\">Perguntas frequentes</a></li>\\n                    <li role=\"listitem\"><a href=\"/glossario\">Gloss\\xc3\\xa1rio</a></li>\\n                </ul>\\n            </div>\\n            <div class=\"col-12 col-sm-3\">\\n                <h2>Controle social</h2>\\n                <ul role=\"list\">\\n                    <li role=\"listitem\"><a href=\"/controle-social/o-portal-como-ferramenta\">O Portal como ferramenta</a></li>\\n                    <li role=\"listitem\"><a href=\"http://www.acessoainformacao.gov.br/\">Acesso \\xc3\\xa0 Informa\\xc3\\xa7\\xc3\\xa3o</a></li>\\n                </ul>\\n            </div>\\n        </div>\\n    </section>\\n</footer>\\n\\n<div id=\"footer-brasil\"></div>\\n\\n<div id=\"carregando\" style=\"display: none;\">\\n    Carregando... <i class=\"fa fa-refresh girar\"></i>\\n</div>\\n\\n<!--\\n    ARQUIVO ALTERADO CONFORME O AMBIENTE.\\n    PARA ADICIONAR NOVOS ARQUIVOS, INCLUIR NO FILTRO E POM.XML\\n -->\\n<script type=\"text/javascript\" src=\"/static/libs/talk/forms.min.js?v=1.4.2\"></script>\\n<script type=\"text/javascript\" src=\"/static/libs/talk/masks.min.js?v=1.4.2\"></script>\\n<script type=\"text/javascript\" src=\"/static/libs/jquery-qrcode/jquery.qrcode-0.12.0.min.js?v=1.4.2\"></script>\\n<script type=\"text/javascript\" src=\"/static/libs/jquery-validation/jquery.validate.min.js?v=1.4.2\"></script>\\n<script type=\"text/javascript\" src=\"/static/libs/jquery-validation/jquery.validate.options.js?v=1.4.2\"></script>\\n<script type=\"text/javascript\" src=\"/static/libs/speakingurl/speakingurl.min.js?v=1.4.2\"></script>\\n<script type=\"text/javascript\" src=\"/static/js/cgu.js?v=1.4.2\"></script>\\n<script type=\"text/javascript\" src=\"/static/libs/jquery-validation/additional-methods.min.js?v=1.4.2\"></script>\\n<script type=\"text/javascript\" src=\"/static/libs/bootstrap-datepicker/bootstrap-datepicker.min.js?v=1.4.2\"></script>\\n<script type=\"text/javascript\" src=\"/static/libs/bootstrap-datepicker/bootstrap-datepicker.pt-BR.min.js?v=1.4.2\"></script>\\n<script type=\"text/javascript\" src=\"/static/libs/bootstrap/js/bootstrap.min.js?v=1.4.2\"></script>\\n<script type=\"text/javascript\" src=\"/static/js/interrogacao.js?v=1.4.2\"></script>\\n<script type=\"text/javascript\" src=\"/static/js/compartilhar.js?v=1.4.2\"></script>\\n<script type=\"text/javascript\" src=\"/static/libs/cycle2/jquery.cycle2.min.js?v=1.4.2\"></script>\\n<script type=\"text/javascript\" src=\"/static/libs/cycle2/jquery.cycle2.carousel.min.js?v=1.4.2\"></script>\\n<script type=\"text/javascript\" src=\"/static/libs/timeline/jquery.timelineMe.min.js?v=1.4.2\"></script>\\n<script type=\"text/javascript\"> var springUrl = \"/\".split(\";\")[0]; </script>\\n<!--[if lt IE 9]>\\n<script src=\"http://html5shim.googlecode.com/svn/trunk/html5.js\"></script>\\n<meta http-equiv=\"X-UA-Compatible\" content=\"IE=EmulateIE9;\">\\n<![endif]-->\\n<script>\\n\\n    $(function () {\\n\\n        $(window).load(function () {\\n\\n\\n\\n            // FUN\\xc3\\x87\\xc3\\x83O PARA O COLLAPSE\\n            cgu.element.display();\\n\\n            // FUN\\xc3\\x87\\xc3\\x83O PARA VALIDAR O FORMUL\\xc3\\x81RIO\\n            forms.form.validate(\".form-consulta\");\\n        });\\n\\n        cgu.criarDatePickers();\\n        cgu.iniciaTipoConteudoEspecifico();\\n\\n    });\\n\\n</script>\\n\\n<!-- Inclusao dos arquivos JavaScript definidos em cada view -->\\n    <script type=\"text/javascript\" src=\"/static/js/portal/download-planilhas.js?v=1.4.2\"></script>\\n<script>\\n\\n    var arquivos = [];\\n\\n        arquivos.push({\"ano\" : \"2013\", \"mes\" : \"\", \"dia\" : \"\", \"origem\" :  \"Receitas\"});\\n        arquivos.push({\"ano\" : \"2014\", \"mes\" : \"\", \"dia\" : \"\", \"origem\" :  \"Receitas\"});\\n        arquivos.push({\"ano\" : \"2015\", \"mes\" : \"\", \"dia\" : \"\", \"origem\" :  \"Receitas\"});\\n        arquivos.push({\"ano\" : \"2016\", \"mes\" : \"\", \"dia\" : \"\", \"origem\" :  \"Receitas\"});\\n        arquivos.push({\"ano\" : \"2017\", \"mes\" : \"\", \"dia\" : \"\", \"origem\" :  \"Receitas\"});\\n        arquivos.push({\"ano\" : \"2018\", \"mes\" : \"\", \"dia\" : \"\", \"origem\" :  \"Receitas\"});\\n\\n    var url = springUrl + \"download-de-dados/receitas/\";\\n    var download = new DownloadPlanilhas(\"receitas\", arquivos, \"ANO\", url);\\n    download.criarLinksIniciais();\\n</script>\\n\\n\\n\\n\\n\\n<!-- BARRA DO TOPO DO GOVERNO -->\\n\\n<!--[if (gt IE 8)|(!IE)]> -->\\n<!-- <![endif]-->\\n\\n</body>\\n</html>\\n'\n"
     ]
    }
   ],
   "source": [
    "# Resultado\n",
    "print(response.content)"
   ]
  },
  {
   "cell_type": "markdown",
   "metadata": {},
   "source": [
    "## Usa o beautiful soup para manusear o resultado do HTML mais facilmente desde que a página tenha sido renderizada"
   ]
  },
  {
   "cell_type": "code",
   "execution_count": 10,
   "metadata": {},
   "outputs": [
    {
     "data": {
      "text/plain": [
       "<title>Execução da Receita - Portal da transparência</title>"
      ]
     },
     "execution_count": 10,
     "metadata": {},
     "output_type": "execute_result"
    }
   ],
   "source": [
    "soup = BeautifulSoup(response.content)\n",
    "soup.title"
   ]
  },
  {
   "cell_type": "code",
   "execution_count": 11,
   "metadata": {},
   "outputs": [
    {
     "data": {
      "text/plain": [
       "<p>Selecione o exercício desejado e clique em Baixar.</p>"
      ]
     },
     "execution_count": 11,
     "metadata": {},
     "output_type": "execute_result"
    }
   ],
   "source": [
    "soup.p"
   ]
  },
  {
   "cell_type": "code",
   "execution_count": 12,
   "metadata": {},
   "outputs": [
    {
     "data": {
      "text/plain": [
       "<select id=\"links-anos\"></select>"
      ]
     },
     "execution_count": 12,
     "metadata": {},
     "output_type": "execute_result"
    }
   ],
   "source": [
    "soup.find(id=\"links-anos\")"
   ]
  },
  {
   "cell_type": "code",
   "execution_count": 13,
   "metadata": {},
   "outputs": [],
   "source": [
    "anos=soup.find(\"select\",{\"id\":\"links-anos\"})\n",
    "options = anos.find_all(\"option\")\n",
    "values = [o.get(\"value\") for o in options]\n",
    "for x in values:\n",
    "    print(x)"
   ]
  },
  {
   "cell_type": "markdown",
   "metadata": {},
   "source": [
    "## Como a página possui javascript, podemos pegar os campos desejado por REGEX"
   ]
  },
  {
   "cell_type": "code",
   "execution_count": 14,
   "metadata": {},
   "outputs": [
    {
     "data": {
      "text/plain": [
       "['2013', '2014', '2015', '2016', '2017', '2018']"
      ]
     },
     "execution_count": 14,
     "metadata": {},
     "output_type": "execute_result"
    }
   ],
   "source": [
    "anos = re.findall('\\\"ano\\\" : \\\"([0-9]{4})\\\", \\\"mes\\\" : \\\"\\\", \\\"dia\\\" : \\\"\\\", \\\"origem\\\" :  \\\"Receitas\\\"', response.text, re.I | re.DOTALL)\n",
    "anos"
   ]
  },
  {
   "cell_type": "code",
   "execution_count": 15,
   "metadata": {},
   "outputs": [],
   "source": [
    "#url = re.findall('var url = springUrl \\+ \\\"(.*?)\\\"', response.content)[0]"
   ]
  },
  {
   "cell_type": "code",
   "execution_count": 16,
   "metadata": {},
   "outputs": [
    {
     "name": "stdout",
     "output_type": "stream",
     "text": [
      "Processando a URL: http://www.portaltransparencia.gov.br/download-de-dados/receitas/2013\n",
      "Processando a URL: http://www.portaltransparencia.gov.br/download-de-dados/receitas/2014\n",
      "Processando a URL: http://www.portaltransparencia.gov.br/download-de-dados/receitas/2015\n",
      "Processando a URL: http://www.portaltransparencia.gov.br/download-de-dados/receitas/2016\n",
      "Processando a URL: http://www.portaltransparencia.gov.br/download-de-dados/receitas/2017\n",
      "Processando a URL: http://www.portaltransparencia.gov.br/download-de-dados/receitas/2018\n"
     ]
    }
   ],
   "source": [
    "for ano in anos:\n",
    "    \n",
    "    # Obtendo a URL de download do ano desejado\n",
    "    url = '{}{}/{}'.format(TRANSPARENCIA_URL, RECEITA_URL, ano)\n",
    "    print('Processando a URL: {}'.format(url))\n",
    "    filename = 'receita_{}.zip'.format(ano)\n",
    "\n",
    "    # Obtendo informacoes do arquivo a ser baixado\n",
    "    r = requests.get(url, stream=True)\n",
    "    total_length = r.headers.get('content-length')\n",
    "    if total_length is None:\n",
    "        total_length = 0\n",
    "    total_length = int(total_length)\n",
    "\n",
    "    # Download em si do arquivo\n",
    "    with open(filename, 'wb') as f:\n",
    "        for chunk in r.iter_content(chunk_size=8192*4):\n",
    "            if not chunk:\n",
    "                log.debug('chunk nulo')\n",
    "                continue\n",
    "            f.write(chunk)\n",
    "            f.flush()\n",
    "            os.fsync(f.fileno())\n",
    "\n",
    "    # Descomprimindo o arquivo\n",
    "    zip_ref = zipfile.ZipFile(filename, 'r')\n",
    "    zip_ref.extractall('Receita/')\n",
    "    zip_ref.close()\n",
    "\n",
    "    # Deletando o .zip\n",
    "    os.remove(filename)"
   ]
  },
  {
   "cell_type": "code",
   "execution_count": 17,
   "metadata": {},
   "outputs": [
    {
     "name": "stdout",
     "output_type": "stream",
     "text": [
      "\u001b[34mApresentacao\u001b[m\u001b[m            \u001b[34mReceita\u001b[m\u001b[m                 \u001b[31mtransparencia.py\u001b[m\u001b[m\r\n",
      "\u001b[34mDados\u001b[m\u001b[m                   \u001b[31mgeckodriver\u001b[m\u001b[m             \u001b[34mtransparencia_scraper\u001b[m\u001b[m\r\n",
      "LICENSE                 geckodriver.log         twitter.ipynb\r\n",
      "README.md               transparencia.ipynb     \u001b[31mtwitter.ipynb - cópia\u001b[m\u001b[m\r\n"
     ]
    }
   ],
   "source": [
    "!ls"
   ]
  },
  {
   "cell_type": "code",
   "execution_count": 18,
   "metadata": {},
   "outputs": [
    {
     "name": "stdout",
     "output_type": "stream",
     "text": [
      "2013_Receitas.csv 2015_Receitas.csv 2017_Receitas.csv\r\n",
      "2014_Receitas.csv 2016_Receitas.csv 2018_Receitas.csv\r\n"
     ]
    }
   ],
   "source": [
    "!ls Receita"
   ]
  },
  {
   "cell_type": "markdown",
   "metadata": {},
   "source": [
    "# E se usassemos SELENIUM ???"
   ]
  },
  {
   "cell_type": "code",
   "execution_count": 14,
   "metadata": {},
   "outputs": [],
   "source": [
    "#!pip install -U selenium"
   ]
  },
  {
   "cell_type": "code",
   "execution_count": 19,
   "metadata": {},
   "outputs": [],
   "source": [
    "from selenium import webdriver\n",
    "from selenium.webdriver.support.ui import Select"
   ]
  },
  {
   "cell_type": "markdown",
   "metadata": {},
   "source": [
    "### Define o navegador a ser utilizado"
   ]
  },
  {
   "cell_type": "code",
   "execution_count": 20,
   "metadata": {},
   "outputs": [],
   "source": [
    "driver = webdriver.Firefox()\n",
    "driver.get(TRANSPARENCIA_URL+RECEITA_URL)"
   ]
  },
  {
   "cell_type": "markdown",
   "metadata": {},
   "source": [
    "### Espera um tempo para carregar a pagina"
   ]
  },
  {
   "cell_type": "code",
   "execution_count": 21,
   "metadata": {},
   "outputs": [],
   "source": [
    "time.sleep(15)"
   ]
  },
  {
   "cell_type": "markdown",
   "metadata": {},
   "source": [
    "### Busca o combo com os anos disponiveis"
   ]
  },
  {
   "cell_type": "code",
   "execution_count": 22,
   "metadata": {},
   "outputs": [
    {
     "data": {
      "text/plain": [
       "<selenium.webdriver.firefox.webelement.FirefoxWebElement (session=\"dd02918c-b150-7143-872a-867f21e01d85\", element=\"1da9cb50-22ba-4f46-8871-d0e445f0c4f3\")>"
      ]
     },
     "execution_count": 22,
     "metadata": {},
     "output_type": "execute_result"
    }
   ],
   "source": [
    "dados = driver.find_element_by_id(\"links-anos\")\n",
    "dados"
   ]
  },
  {
   "cell_type": "markdown",
   "metadata": {},
   "source": [
    "### Obtem o texto com o HTML retornado"
   ]
  },
  {
   "cell_type": "code",
   "execution_count": 23,
   "metadata": {},
   "outputs": [
    {
     "data": {
      "text/plain": [
       "'<option value=\"2018\">2018</option><option value=\"2017\">2017</option><option value=\"2016\">2016</option><option value=\"2015\">2015</option><option value=\"2014\">2014</option><option value=\"2013\">2013</option>'"
      ]
     },
     "execution_count": 23,
     "metadata": {},
     "output_type": "execute_result"
    }
   ],
   "source": [
    "html = dados.get_attribute(\"innerHTML\")\n",
    "html"
   ]
  },
  {
   "cell_type": "code",
   "execution_count": 20,
   "metadata": {},
   "outputs": [],
   "source": [
    "anos = BeautifulSoup(html, \"html.parser\")"
   ]
  },
  {
   "cell_type": "code",
   "execution_count": 21,
   "metadata": {},
   "outputs": [
    {
     "name": "stdout",
     "output_type": "stream",
     "text": [
      "2018\n",
      "2017\n",
      "2016\n",
      "2015\n",
      "2014\n",
      "2013\n"
     ]
    }
   ],
   "source": [
    "options = anos.find_all(\"option\")\n",
    "values = [o.get(\"value\") for o in options]\n",
    "for x in values:\n",
    "    print(x)"
   ]
  },
  {
   "cell_type": "markdown",
   "metadata": {},
   "source": [
    "## Basta prosseguir com o Download como feito anteriormente montando a URL de download e baixando arquivo a arquivo"
   ]
  },
  {
   "cell_type": "code",
   "execution_count": null,
   "metadata": {},
   "outputs": [],
   "source": []
  }
 ],
 "metadata": {
  "kernelspec": {
   "display_name": "Python 3",
   "language": "python",
   "name": "python3"
  },
  "language_info": {
   "codemirror_mode": {
    "name": "ipython",
    "version": 3
   },
   "file_extension": ".py",
   "mimetype": "text/x-python",
   "name": "python",
   "nbconvert_exporter": "python",
   "pygments_lexer": "ipython3",
   "version": "3.7.0"
  }
 },
 "nbformat": 4,
 "nbformat_minor": 2
}
